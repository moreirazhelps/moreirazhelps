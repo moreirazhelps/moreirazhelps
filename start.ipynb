{
  "nbformat": 4,
  "nbformat_minor": 0,
  "metadata": {
    "colab": {
      "provenance": [],
      "authorship_tag": "ABX9TyOhOBXHvM0PjU6xTQBlC3aS",
      "include_colab_link": true
    },
    "kernelspec": {
      "name": "python3",
      "display_name": "Python 3"
    },
    "language_info": {
      "name": "python"
    }
  },
  "cells": [
    {
      "cell_type": "markdown",
      "metadata": {
        "id": "view-in-github",
        "colab_type": "text"
      },
      "source": [
        "<a href=\"https://colab.research.google.com/github/moreirazhelps/moreirazhelps/blob/main/start.ipynb\" target=\"_parent\"><img src=\"https://colab.research.google.com/assets/colab-badge.svg\" alt=\"Open In Colab\"/></a>"
      ]
    },
    {
      "cell_type": "markdown",
      "source": [
        "# Critérios de marcação\n",
        "\n",
        "## O Jupyter Notebook começa com um título e uma breve descrição do arquivo.\n",
        "\n",
        "### O Jupyter Notebook parece legal.\n",
        "\n",
        "#### O Jupyter Notebook contém cabeçalhos organizados e claros que organizam o Notebook de uma forma compreensível e legível.\n"
      ],
      "metadata": {
        "id": "RULq3zyskoIU"
      }
    }
  ]
}