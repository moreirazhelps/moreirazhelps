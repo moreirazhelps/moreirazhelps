{
  "nbformat": 4,
  "nbformat_minor": 0,
  "metadata": {
    "colab": {
      "provenance": [],
      "authorship_tag": "ABX9TyOOlVCsPku9Q1rL+hhrwu4F",
      "include_colab_link": true
    },
    "kernelspec": {
      "name": "python3",
      "display_name": "Python 3"
    },
    "language_info": {
      "name": "python"
    }
  },
  "cells": [
    {
      "cell_type": "markdown",
      "metadata": {
        "id": "view-in-github",
        "colab_type": "text"
      },
      "source": [
        "<a href=\"https://colab.research.google.com/github/moreirazhelps/moreirazhelps/blob/main/monty_hall.ipynb\" target=\"_parent\"><img src=\"https://colab.research.google.com/assets/colab-badge.svg\" alt=\"Open In Colab\"/></a>"
      ]
    },
    {
      "cell_type": "markdown",
      "source": [
        "#**Over Notitieboekje**\n",
        "\n",
        "Ik ga wat vertellen over Jupyter Notebook via `strings`, `variabelen` en `print()`-functies.\n",
        "*cursieve tekst*"
      ],
      "metadata": {
        "id": "ePFHTG39v2ez"
      }
    },
    {
      "cell_type": "code",
      "source": [
        "jupiter = 'Het Jupyter Notebook begint met een titel en een korte beschrijving van het bestand. Het Jupyter Notebook ziet er netjes uit.'\n",
        "notebook = 'Het Jupyter Notebook bevat nette en duidelijke headers die het Notebook op een begrijpelijke en leesbare manier indelen. Het Jupyter Notebook werkt als je alle code van boven naar beneden uitvoert.'\n",
        "print(jupiter)\n",
        "print(notebook)"
      ],
      "metadata": {
        "colab": {
          "base_uri": "https://localhost:8080/"
        },
        "id": "weVF10yr2SkR",
        "outputId": "d88bcca4-ca77-4fb4-e3d8-ae2220b624b5"
      },
      "execution_count": 9,
      "outputs": [
        {
          "output_type": "stream",
          "name": "stdout",
          "text": [
            "Het Jupyter Notebook begint met een titel en een korte beschrijving van het bestand. Het Jupyter Notebook ziet er netjes uit.\n",
            "Het Jupyter Notebook bevat nette en duidelijke headers die het Notebook op een begrijpelijke en leesbare manier indelen. Het Jupyter Notebook werkt als je alle code van boven naar beneden uitvoert.\n"
          ]
        }
      ]
    }
  ]
}