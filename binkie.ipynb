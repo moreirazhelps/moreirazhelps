{
  "nbformat": 4,
  "nbformat_minor": 0,
  "metadata": {
    "colab": {
      "provenance": [],
      "authorship_tag": "ABX9TyPJpXqh97sqIzpuY/wemnGL",
      "include_colab_link": true
    },
    "kernelspec": {
      "name": "python3",
      "display_name": "Python 3"
    },
    "language_info": {
      "name": "python"
    }
  },
  "cells": [
    {
      "cell_type": "markdown",
      "metadata": {
        "id": "view-in-github",
        "colab_type": "text"
      },
      "source": [
        "<a href=\"https://colab.research.google.com/github/moreirazhelps/moreirazhelps/blob/main/binkie.ipynb\" target=\"_parent\"><img src=\"https://colab.research.google.com/assets/colab-badge.svg\" alt=\"Open In Colab\"/></a>"
      ]
    },
    {
      "cell_type": "markdown",
      "source": [
        "# Binkie Bio\n",
        "<p>Hallo, ik ben <strong>Binkie de Beer</strong>! Ik houd van:</p>\n",
        "<ul>\n",
        "<li>Gebakken vis;</li>\n",
        "<li>Gebraden vis;</li>\n",
        "<li>Gepofte vis <em>met veel pindasaus</em>.</li>\n",
        "</ul>\n",
        "\n",
        "## Wat ik hier doe\n",
        "\n",
        "<p>Ik ben een programmeur:</p>\n",
        "<ol>\n",
        "<li>Ik kan met Python programmeren;</li>\n",
        "<li>Ik kan met MarkDown schrijven;</li>\n",
        "<li>Ik kam drie dingen opsommen!</li>\n",
        "</ol>\n",
        "\n",
        "<p>Ik ben de slimste beer! <a href = https://letmegooglethat.com/?q=binkie+de+beer+is+de+slimste>Google me maar!</a></p>"
      ],
      "metadata": {
        "id": "oX1B4F9VpELo"
      }
    },
    {
      "cell_type": "code",
      "source": [
        "print (\"Binkie!\")\n"
      ],
      "metadata": {
        "colab": {
          "base_uri": "https://localhost:8080/"
        },
        "id": "a32OzsKzONDR",
        "outputId": "b0606057-ab6d-4396-f1cc-43082a829fe0"
      },
      "execution_count": 1,
      "outputs": [
        {
          "output_type": "stream",
          "name": "stdout",
          "text": [
            "Binkie!\n"
          ]
        }
      ]
    },
    {
      "cell_type": "code",
      "source": [],
      "metadata": {
        "id": "Ap6WQ_oRO2SI"
      },
      "execution_count": null,
      "outputs": []
    },
    {
      "cell_type": "markdown",
      "source": [],
      "metadata": {
        "id": "kI4cnYFxO7As"
      }
    }
  ]
}